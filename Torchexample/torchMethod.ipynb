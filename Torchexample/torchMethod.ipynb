{
 "cells": [
  {
   "cell_type": "code",
   "execution_count": 2,
   "id": "25cec9b1",
   "metadata": {},
   "outputs": [],
   "source": [
    "import torch"
   ]
  },
  {
   "cell_type": "markdown",
   "id": "64ff779b",
   "metadata": {},
   "source": [
    "## torch method"
   ]
  },
  {
   "cell_type": "code",
   "execution_count": 3,
   "id": "3b848ad3",
   "metadata": {},
   "outputs": [
    {
     "name": "stdout",
     "output_type": "stream",
     "text": [
      "tensor([1, 1, 1, 1, 0, 1, 1, 1, 1, 1])\n"
     ]
    }
   ],
   "source": [
    "# define a probablilty tensor\n",
    "probabilities = torch.tensor([ 0.1, 0.9]) # is giving a tensor but read down for this \n",
    "\n",
    "# 10% or 0.1 => 0, 90% or 0.9 = 1. each probability points to the index of the probability in the tensor\n",
    "\n",
    "# Draw 10 samples from the multinomial distribution\n",
    "sample = torch.multinomial(probabilities,num_samples=10, replacement= True)\n",
    "print(sample)\n",
    "\n"
   ]
  },
  {
   "cell_type": "code",
   "execution_count": 4,
   "id": "0990f03b",
   "metadata": {},
   "outputs": [
    {
     "data": {
      "text/plain": [
       "tensor([1, 2, 3, 4, 5, 5, 6])"
      ]
     },
     "execution_count": 4,
     "metadata": {},
     "output_type": "execute_result"
    }
   ],
   "source": [
    "# tensor concat\n",
    "tensorarray = torch.tensor([1,2,3,4,5])\n",
    "out1 = torch.cat((tensorarray,torch.tensor([5,6])),dim= 0)\n",
    "out1"
   ]
  },
  {
   "cell_type": "code",
   "execution_count": 5,
   "id": "d0424ef5",
   "metadata": {},
   "outputs": [
    {
     "data": {
      "text/plain": [
       "tensor([[1., 0., 0., 0., 0.],\n",
       "        [1., 1., 0., 0., 0.],\n",
       "        [1., 1., 1., 0., 0.],\n",
       "        [1., 1., 1., 1., 0.],\n",
       "        [1., 1., 1., 1., 1.]])"
      ]
     },
     "execution_count": 5,
     "metadata": {},
     "output_type": "execute_result"
    }
   ],
   "source": [
    "output2 = torch.tril(torch.ones(5,5)) # trill --> triangular lower\n",
    "output2"
   ]
  },
  {
   "cell_type": "code",
   "execution_count": 6,
   "id": "4b5a8c8c",
   "metadata": {},
   "outputs": [
    {
     "data": {
      "text/plain": [
       "tensor([[1., 1., 1., 1., 1.],\n",
       "        [0., 1., 1., 1., 1.],\n",
       "        [0., 0., 1., 1., 1.],\n",
       "        [0., 0., 0., 1., 1.],\n",
       "        [0., 0., 0., 0., 1.]])"
      ]
     },
     "execution_count": 6,
     "metadata": {},
     "output_type": "execute_result"
    }
   ],
   "source": [
    "output3 = torch.triu(torch.ones(5,5)) # trill --> triangular lower\n",
    "output3"
   ]
  },
  {
   "cell_type": "code",
   "execution_count": 7,
   "id": "a9391232",
   "metadata": {},
   "outputs": [
    {
     "data": {
      "text/plain": [
       "tensor([[0., -inf, -inf, -inf, -inf],\n",
       "        [0., 0., -inf, -inf, -inf],\n",
       "        [0., 0., 0., -inf, -inf],\n",
       "        [0., 0., 0., 0., -inf],\n",
       "        [0., 0., 0., 0., 0.]])"
      ]
     },
     "execution_count": 7,
     "metadata": {},
     "output_type": "execute_result"
    }
   ],
   "source": [
    "output3 = torch.zeros(5,5).masked_fill(torch.tril(torch.ones(5,5)) == 0, float('-inf')) # trill --> triangular lower\n",
    "output3"
   ]
  },
  {
   "cell_type": "code",
   "execution_count": 8,
   "id": "7b156111",
   "metadata": {},
   "outputs": [
    {
     "data": {
      "text/plain": [
       "tensor([[1., 0., 0., 0., 0.],\n",
       "        [1., 1., 0., 0., 0.],\n",
       "        [1., 1., 1., 0., 0.],\n",
       "        [1., 1., 1., 1., 0.],\n",
       "        [1., 1., 1., 1., 1.]])"
      ]
     },
     "execution_count": 8,
     "metadata": {},
     "output_type": "execute_result"
    }
   ],
   "source": [
    "torch.exp(output3)"
   ]
  },
  {
   "cell_type": "code",
   "execution_count": 9,
   "id": "3da8477e",
   "metadata": {},
   "outputs": [
    {
     "data": {
      "text/plain": [
       "torch.Size([4, 3, 2])"
      ]
     },
     "execution_count": 9,
     "metadata": {},
     "output_type": "execute_result"
    }
   ],
   "source": [
    "inparr = torch.zeros(2,3,4)\n",
    "transpose = inparr.transpose(0,2)\n",
    "transpose.shape"
   ]
  },
  {
   "cell_type": "code",
   "execution_count": 10,
   "id": "34217d31",
   "metadata": {},
   "outputs": [
    {
     "data": {
      "text/plain": [
       "tensor([[1, 2, 3],\n",
       "        [4, 5, 6],\n",
       "        [7, 8, 9]])"
      ]
     },
     "execution_count": 10,
     "metadata": {},
     "output_type": "execute_result"
    }
   ],
   "source": [
    "tensor1 = torch.tensor([1,2,3])\n",
    "tensor2 = torch.tensor([4,5,6])\n",
    "tensor3 = torch.tensor([7,8,9])\n",
    "\n",
    "# Stack the tensors along a new dimension\n",
    "stacked_tensor = torch.stack([tensor1,tensor2,tensor3])\n",
    "stacked_tensor"
   ]
  },
  {
   "cell_type": "markdown",
   "id": "1625860c",
   "metadata": {},
   "source": [
    "### neural network (nn)"
   ]
  },
  {
   "cell_type": "code",
   "execution_count": 11,
   "id": "ffe40a18",
   "metadata": {},
   "outputs": [
    {
     "name": "stdout",
     "output_type": "stream",
     "text": [
      "tensor([ 5.2199,  6.6448, -4.5046], grad_fn=<SqueezeBackward4>)\n"
     ]
    }
   ],
   "source": [
    "import torch.nn as nn\n",
    "\n",
    "sample = torch.tensor([10.,10.,10.])\n",
    "linear = nn.Linear(3,3,bias=False)   #3-> input neurons , 3 -> output neuron\n",
    "print(linear(sample))"
   ]
  },
  {
   "cell_type": "code",
   "execution_count": 12,
   "id": "534c54ad",
   "metadata": {},
   "outputs": [
    {
     "data": {
      "text/plain": [
       "tensor([0.0900, 0.2447, 0.6652])"
      ]
     },
     "execution_count": 12,
     "metadata": {},
     "output_type": "execute_result"
    }
   ],
   "source": [
    "import torch.nn.functional as F\n",
    "\n",
    "tensor = torch.tensor([1.0,2.0,3.0])\n",
    "\n",
    "softmax_output = F.softmax(tensor,dim=0) ## take elements of tensor put it in exp^element ,\n",
    "                                                 ##     then sum of all ,, then e^each element divide by the sum\n",
    "softmax_output"
   ]
  },
  {
   "cell_type": "markdown",
   "id": "88c597af",
   "metadata": {},
   "source": [
    "### embedding vector "
   ]
  },
  {
   "cell_type": "code",
   "execution_count": 16,
   "id": "cff5bdff",
   "metadata": {},
   "outputs": [
    {
     "name": "stdout",
     "output_type": "stream",
     "text": [
      "torch.Size([5, 100])\n"
     ]
    }
   ],
   "source": [
    "# 1. Define embedding layer\n",
    "vocab_size = 100      # number of unique words (tokens) in vocabulary\n",
    "embedding_dim = 100   # size of each embedding vector\n",
    "embedding = nn.Embedding(vocab_size, embedding_dim)\n",
    "\n",
    "# 2. Input indices\n",
    "input_index = torch.LongTensor([1, 5, 8, 3, 2])\n",
    "\n",
    "# 3. Lookup embeddings\n",
    "embedded_output = embedding.forward(input_index) ## embedding(input_index)\n",
    "\n",
    "print(embedded_output.shape)\n",
    "##print(embedded_output)\n",
    "\n"
   ]
  },
  {
   "cell_type": "code",
   "execution_count": 14,
   "id": "7c93120b",
   "metadata": {},
   "outputs": [
    {
     "name": "stdout",
     "output_type": "stream",
     "text": [
      "torch.Size([3, 3])\n",
      "torch.Size([3, 3])\n"
     ]
    }
   ],
   "source": [
    "## matrix multiply \n",
    "matrix1 = torch.tensor([[1,2,3],[4,5,6],[7,8,9]])\n",
    "matrix2 = torch.tensor([[1,2,3],[4,5,6],[7,8,9]])\n",
    "\n",
    "matrix_mul = (matrix1 @ matrix2)\n",
    "matrix_mul2 = torch.matmul(matrix1,matrix2)\n",
    "print(matrix_mul.shape)\n",
    "print(matrix_mul2.shape)\n"
   ]
  },
  {
   "cell_type": "code",
   "execution_count": 15,
   "id": "2f487375",
   "metadata": {},
   "outputs": [
    {
     "ename": "RuntimeError",
     "evalue": "expected m1 and m2 to have the same dtype, but got: long long != float",
     "output_type": "error",
     "traceback": [
      "\u001b[31m---------------------------------------------------------------------------\u001b[39m",
      "\u001b[31mRuntimeError\u001b[39m                              Traceback (most recent call last)",
      "\u001b[36mCell\u001b[39m\u001b[36m \u001b[39m\u001b[32mIn[15]\u001b[39m\u001b[32m, line 5\u001b[39m\n\u001b[32m      1\u001b[39m int_64 = torch.randint(\u001b[32m1\u001b[39m,(\u001b[32m3\u001b[39m,\u001b[32m2\u001b[39m))\n\u001b[32m      3\u001b[39m folat_32 = torch.rand(\u001b[32m2\u001b[39m,\u001b[32m3\u001b[39m)\n\u001b[32m----> \u001b[39m\u001b[32m5\u001b[39m \u001b[38;5;28mprint\u001b[39m(\u001b[43mtorch\u001b[49m\u001b[43m.\u001b[49m\u001b[43mmatmul\u001b[49m\u001b[43m(\u001b[49m\u001b[43mint_64\u001b[49m\u001b[43m,\u001b[49m\u001b[43mfolat_32\u001b[49m\u001b[43m)\u001b[49m)\n",
      "\u001b[31mRuntimeError\u001b[39m: expected m1 and m2 to have the same dtype, but got: long long != float"
     ]
    }
   ],
   "source": [
    "int_64 = torch.randint(1,(3,2))\n",
    "\n",
    "folat_32 = torch.rand(2,3)\n",
    "\n",
    "print(torch.matmul(int_64,folat_32))"
   ]
  },
  {
   "cell_type": "code",
   "execution_count": null,
   "id": "f847d3f9",
   "metadata": {},
   "outputs": [],
   "source": []
  }
 ],
 "metadata": {
  "kernelspec": {
   "display_name": ".venv",
   "language": "python",
   "name": "python3"
  },
  "language_info": {
   "codemirror_mode": {
    "name": "ipython",
    "version": 3
   },
   "file_extension": ".py",
   "mimetype": "text/x-python",
   "name": "python",
   "nbconvert_exporter": "python",
   "pygments_lexer": "ipython3",
   "version": "3.11.9"
  }
 },
 "nbformat": 4,
 "nbformat_minor": 5
}
